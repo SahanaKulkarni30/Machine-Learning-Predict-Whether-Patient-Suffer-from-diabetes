{
 "cells": [
  {
   "cell_type": "markdown",
   "metadata": {},
   "source": [
    "# Diabetes Prediction using Machine Learning"
   ]
  },
  {
   "cell_type": "markdown",
   "metadata": {},
   "source": [
    "# Method 1 Linear Classification Model "
   ]
  },
  {
   "cell_type": "markdown",
   "metadata": {},
   "source": [
    "### Import the required library"
   ]
  },
  {
   "cell_type": "code",
   "execution_count": 22,
   "metadata": {},
   "outputs": [],
   "source": [
    "import tensorflow as tf\n",
    "\n",
    "import numpy as np\n",
    "import pandas as pd\n",
    "\n",
    "import matplotlib.pyplot as plt\n",
    "\n",
    "from sklearn.model_selection import train_test_split\n",
    "from sklearn.metrics import confusion_matrix,classification_report\n",
    "\n",
    "\n",
    "%matplotlib inline"
   ]
  },
  {
   "cell_type": "markdown",
   "metadata": {},
   "source": [
    "### Read the Data Set and Clean the data set "
   ]
  },
  {
   "cell_type": "code",
   "execution_count": 23,
   "metadata": {},
   "outputs": [],
   "source": [
    "def Data_Process():\n",
    "    \n",
    "    \"\"\"\n",
    "    This will read the CSV and Normalize the Data and\n",
    "    Perform Train Test Split and Return\n",
    "    X_Train, X_Test, Y_Train, Y_Test\n",
    "    \n",
    "    \"\"\"\n",
    "    # Name for the column  or Features Map\n",
    "    columns_to_named = [\"Pregnancies\",\"Glucose\",\"BloodPressure\",\n",
    "           \"SkinThickness\",\"Insulin\",\"BMI\",\"DiabetesPedigreeFunction\",\n",
    "           \"Age\",\"Class\"]\n",
    "    \n",
    "    # Read the Dataset and Rename the Column\n",
    "    df = pd.read_csv(\"pima-indians-diabetes.csv\",header=0,names=columns_to_named)\n",
    "\n",
    "    col_norm =['Pregnancies', 'Glucose', 'BloodPressure', 'SkinThickness', 'Insulin',\n",
    "       'BMI', 'DiabetesPedigreeFunction']\n",
    "    \n",
    "    # Normalization using Custom Lambda Function\n",
    "    \n",
    "    df1_norm = df[col_norm].apply(lambda x :( (x - x.min()) / (x.max()-x.min()) ) )\n",
    "    \n",
    "    X_Data = df1_norm\n",
    "    Y_Data = df[\"Class\"]\n",
    "    \n",
    "    X_Train, X_Test, Y_Train, Y_Test = train_test_split(X_Data,Y_Data, test_size=0.3,random_state=101)\n",
    "    \n",
    "    return X_Train, X_Test, Y_Train, Y_Test"
   ]
  },
  {
   "cell_type": "markdown",
   "metadata": {},
   "source": [
    "### Create a Feature Column"
   ]
  },
  {
   "cell_type": "code",
   "execution_count": 27,
   "metadata": {},
   "outputs": [],
   "source": [
    "def create_feature_column():\n",
    "    \n",
    "    feat_Pregnancies = tf.feature_column.numeric_column('Pregnancies')\n",
    "    feat_Glucose = tf.feature_column.numeric_column('Glucose')\n",
    "    feat_BloodPressure = tf.feature_column.numeric_column('BloodPressure')\n",
    "    feat_SkinThickness_tricep = tf.feature_column.numeric_column('SkinThickness')\n",
    "    feat_Insulin = tf.feature_column.numeric_column('Insulin')\n",
    "    feat_BMI = tf.feature_column.numeric_column('BMI')\n",
    "    feat_DiabetesPedigreeFunction  = tf.feature_column.numeric_column('DiabetesPedigreeFunction')\n",
    "    \n",
    "    feature_column = [feat_Pregnancies, feat_Glucose, feat_BloodPressure, \n",
    "                  feat_SkinThickness_tricep, feat_Insulin, \n",
    "                 feat_BMI , feat_DiabetesPedigreeFunction] \n",
    "    \n",
    "    return feature_column"
   ]
  },
  {
   "cell_type": "code",
   "execution_count": 30,
   "metadata": {},
   "outputs": [],
   "source": [
    "def create_input_test_func(X_Train, X_Test, Y_Train, Y_Test):\n",
    "    \n",
    "    input_func = tf.estimator.inputs.pandas_input_fn(x=X_Train, y=Y_Train,\n",
    "                                                 batch_size=40,num_epochs =1000, \n",
    "                                                 shuffle=True)\n",
    "    eval_input_func = tf.estimator.inputs.pandas_input_fn(x=X_Test,\n",
    "                                                      y=Y_Test,\n",
    "                                                      batch_size=40,\n",
    "                                                      num_epochs=1,\n",
    "                                                      shuffle=False)\n",
    "    return input_func, eval_input_func    "
   ]
  },
  {
   "cell_type": "markdown",
   "metadata": {},
   "source": [
    "## Create a Model"
   ]
  },
  {
   "cell_type": "code",
   "execution_count": 43,
   "metadata": {},
   "outputs": [],
   "source": [
    "# this Function Return X_train, X_Test, Y_Train, Y_Test\n",
    "X_Train, X_Test, Y_Train, Y_Test = data_cleaning()\n",
    "\n",
    "# Create and return List of feature Coulmn\n",
    "feature_column = create_feature_column()\n",
    "\n",
    "#create a Input and Test Function\n",
    "input_func, eval_input_func = create_input_test_func(X_Train, X_Test, Y_Train, Y_Test)"
   ]
  },
  {
   "cell_type": "markdown",
   "metadata": {},
   "source": [
    "create the Model"
   ]
  },
  {
   "cell_type": "code",
   "execution_count": 44,
   "metadata": {
    "collapsed": true
   },
   "outputs": [
    {
     "name": "stdout",
     "output_type": "stream",
     "text": [
      "INFO:tensorflow:Using default config.\n",
      "WARNING:tensorflow:Using temporary folder as model directory: /var/folders/yh/7gktt0ls0fj77fnrs694ht6m0000gn/T/tmpgzgu_ciu\n",
      "INFO:tensorflow:Using config: {'_model_dir': '/var/folders/yh/7gktt0ls0fj77fnrs694ht6m0000gn/T/tmpgzgu_ciu', '_tf_random_seed': None, '_save_summary_steps': 100, '_save_checkpoints_steps': None, '_save_checkpoints_secs': 600, '_session_config': allow_soft_placement: true\n",
      "graph_options {\n",
      "  rewrite_options {\n",
      "    meta_optimizer_iterations: ONE\n",
      "  }\n",
      "}\n",
      ", '_keep_checkpoint_max': 5, '_keep_checkpoint_every_n_hours': 10000, '_log_step_count_steps': 100, '_train_distribute': None, '_device_fn': None, '_protocol': None, '_eval_distribute': None, '_experimental_distribute': None, '_service': None, '_cluster_spec': <tensorflow.python.training.server_lib.ClusterSpec object at 0x1a2f5c3be0>, '_task_type': 'worker', '_task_id': 0, '_global_id_in_cluster': 0, '_master': '', '_evaluation_master': '', '_is_chief': True, '_num_ps_replicas': 0, '_num_worker_replicas': 1}\n"
     ]
    }
   ],
   "source": [
    "model = tf.estimator.LinearClassifier(feature_columns=feature_column, \n",
    "                                      n_classes=2)"
   ]
  },
  {
   "cell_type": "code",
   "execution_count": 45,
   "metadata": {
    "collapsed": true
   },
   "outputs": [
    {
     "name": "stdout",
     "output_type": "stream",
     "text": [
      "INFO:tensorflow:Calling model_fn.\n",
      "INFO:tensorflow:Done calling model_fn.\n",
      "INFO:tensorflow:Create CheckpointSaverHook.\n",
      "INFO:tensorflow:Graph was finalized.\n",
      "INFO:tensorflow:Running local_init_op.\n",
      "INFO:tensorflow:Done running local_init_op.\n",
      "INFO:tensorflow:Saving checkpoints for 0 into /var/folders/yh/7gktt0ls0fj77fnrs694ht6m0000gn/T/tmpgzgu_ciu/model.ckpt.\n",
      "INFO:tensorflow:loss = 27.725887, step = 1\n",
      "INFO:tensorflow:global_step/sec: 337.183\n",
      "INFO:tensorflow:loss = 23.74131, step = 101 (0.298 sec)\n",
      "INFO:tensorflow:global_step/sec: 550.891\n",
      "INFO:tensorflow:loss = 22.92276, step = 201 (0.183 sec)\n",
      "INFO:tensorflow:global_step/sec: 604.507\n",
      "INFO:tensorflow:loss = 25.088806, step = 301 (0.165 sec)\n",
      "INFO:tensorflow:global_step/sec: 603.45\n",
      "INFO:tensorflow:loss = 21.590435, step = 401 (0.166 sec)\n",
      "INFO:tensorflow:global_step/sec: 519.943\n",
      "INFO:tensorflow:loss = 21.507149, step = 501 (0.191 sec)\n",
      "INFO:tensorflow:global_step/sec: 525.503\n",
      "INFO:tensorflow:loss = 21.12466, step = 601 (0.193 sec)\n",
      "INFO:tensorflow:global_step/sec: 528.885\n",
      "INFO:tensorflow:loss = 22.595085, step = 701 (0.189 sec)\n",
      "INFO:tensorflow:global_step/sec: 545.488\n",
      "INFO:tensorflow:loss = 22.580467, step = 801 (0.185 sec)\n",
      "INFO:tensorflow:global_step/sec: 539.34\n",
      "INFO:tensorflow:loss = 24.834803, step = 901 (0.183 sec)\n",
      "INFO:tensorflow:global_step/sec: 567.539\n",
      "INFO:tensorflow:loss = 22.683453, step = 1001 (0.177 sec)\n",
      "INFO:tensorflow:global_step/sec: 497.864\n",
      "INFO:tensorflow:loss = 16.507732, step = 1101 (0.200 sec)\n",
      "INFO:tensorflow:global_step/sec: 534.611\n",
      "INFO:tensorflow:loss = 20.575388, step = 1201 (0.193 sec)\n",
      "INFO:tensorflow:global_step/sec: 300.272\n",
      "INFO:tensorflow:loss = 19.993616, step = 1301 (0.328 sec)\n",
      "INFO:tensorflow:global_step/sec: 535.318\n",
      "INFO:tensorflow:loss = 22.796614, step = 1401 (0.193 sec)\n",
      "INFO:tensorflow:global_step/sec: 332.773\n",
      "INFO:tensorflow:loss = 20.56276, step = 1501 (0.295 sec)\n",
      "INFO:tensorflow:global_step/sec: 288.568\n",
      "INFO:tensorflow:loss = 24.462177, step = 1601 (0.349 sec)\n",
      "INFO:tensorflow:global_step/sec: 308.49\n",
      "INFO:tensorflow:loss = 21.026989, step = 1701 (0.322 sec)\n",
      "INFO:tensorflow:global_step/sec: 469.62\n",
      "INFO:tensorflow:loss = 19.662445, step = 1801 (0.210 sec)\n",
      "INFO:tensorflow:global_step/sec: 475.892\n",
      "INFO:tensorflow:loss = 16.409756, step = 1901 (0.211 sec)\n",
      "INFO:tensorflow:global_step/sec: 526.196\n",
      "INFO:tensorflow:loss = 20.003244, step = 2001 (0.190 sec)\n",
      "INFO:tensorflow:global_step/sec: 522.425\n",
      "INFO:tensorflow:loss = 21.4689, step = 2101 (0.193 sec)\n",
      "INFO:tensorflow:global_step/sec: 572.702\n",
      "INFO:tensorflow:loss = 16.48814, step = 2201 (0.172 sec)\n",
      "INFO:tensorflow:global_step/sec: 585.666\n",
      "INFO:tensorflow:loss = 18.73787, step = 2301 (0.174 sec)\n",
      "INFO:tensorflow:global_step/sec: 505.622\n",
      "INFO:tensorflow:loss = 20.94802, step = 2401 (0.194 sec)\n",
      "INFO:tensorflow:global_step/sec: 517.904\n",
      "INFO:tensorflow:loss = 20.144615, step = 2501 (0.193 sec)\n",
      "INFO:tensorflow:global_step/sec: 552.366\n",
      "INFO:tensorflow:loss = 17.853317, step = 2601 (0.184 sec)\n",
      "INFO:tensorflow:global_step/sec: 546.177\n",
      "INFO:tensorflow:loss = 22.834978, step = 2701 (0.182 sec)\n",
      "INFO:tensorflow:global_step/sec: 590.511\n",
      "INFO:tensorflow:loss = 19.859858, step = 2801 (0.170 sec)\n",
      "INFO:tensorflow:global_step/sec: 580.663\n",
      "INFO:tensorflow:loss = 19.618385, step = 2901 (0.169 sec)\n",
      "INFO:tensorflow:global_step/sec: 600.024\n",
      "INFO:tensorflow:loss = 22.582417, step = 3001 (0.169 sec)\n",
      "INFO:tensorflow:global_step/sec: 582.951\n",
      "INFO:tensorflow:loss = 19.946688, step = 3101 (0.172 sec)\n",
      "INFO:tensorflow:global_step/sec: 580.945\n",
      "INFO:tensorflow:loss = 17.899416, step = 3201 (0.174 sec)\n",
      "INFO:tensorflow:global_step/sec: 566.394\n",
      "INFO:tensorflow:loss = 19.453896, step = 3301 (0.177 sec)\n",
      "INFO:tensorflow:global_step/sec: 356.497\n",
      "INFO:tensorflow:loss = 18.828457, step = 3401 (0.284 sec)\n",
      "INFO:tensorflow:global_step/sec: 283.91\n",
      "INFO:tensorflow:loss = 18.197258, step = 3501 (0.348 sec)\n",
      "INFO:tensorflow:global_step/sec: 457.396\n",
      "INFO:tensorflow:loss = 18.407848, step = 3601 (0.225 sec)\n",
      "INFO:tensorflow:global_step/sec: 321.256\n",
      "INFO:tensorflow:loss = 16.470402, step = 3701 (0.305 sec)\n",
      "INFO:tensorflow:global_step/sec: 497.946\n",
      "INFO:tensorflow:loss = 18.989338, step = 3801 (0.200 sec)\n",
      "INFO:tensorflow:global_step/sec: 386.054\n",
      "INFO:tensorflow:loss = 17.67555, step = 3901 (0.259 sec)\n",
      "INFO:tensorflow:global_step/sec: 434.739\n",
      "INFO:tensorflow:loss = 17.296812, step = 4001 (0.230 sec)\n",
      "INFO:tensorflow:global_step/sec: 282.693\n",
      "INFO:tensorflow:loss = 21.037636, step = 4101 (0.353 sec)\n",
      "INFO:tensorflow:global_step/sec: 474.246\n",
      "INFO:tensorflow:loss = 16.429132, step = 4201 (0.210 sec)\n",
      "INFO:tensorflow:global_step/sec: 432.661\n",
      "INFO:tensorflow:loss = 20.66645, step = 4301 (0.230 sec)\n",
      "INFO:tensorflow:global_step/sec: 555.564\n",
      "INFO:tensorflow:loss = 15.297063, step = 4401 (0.181 sec)\n",
      "INFO:tensorflow:global_step/sec: 535.55\n",
      "INFO:tensorflow:loss = 17.115559, step = 4501 (0.188 sec)\n",
      "INFO:tensorflow:global_step/sec: 342.964\n",
      "INFO:tensorflow:loss = 20.514648, step = 4601 (0.301 sec)\n",
      "INFO:tensorflow:global_step/sec: 321.258\n",
      "INFO:tensorflow:loss = 20.282032, step = 4701 (0.305 sec)\n",
      "INFO:tensorflow:global_step/sec: 421.747\n",
      "INFO:tensorflow:loss = 19.482649, step = 4801 (0.232 sec)\n",
      "INFO:tensorflow:global_step/sec: 304.086\n",
      "INFO:tensorflow:loss = 19.009918, step = 4901 (0.332 sec)\n",
      "INFO:tensorflow:Saving checkpoints for 5000 into /var/folders/yh/7gktt0ls0fj77fnrs694ht6m0000gn/T/tmpgzgu_ciu/model.ckpt.\n",
      "INFO:tensorflow:Loss for final step: 14.006584.\n"
     ]
    }
   ],
   "source": [
    "history = model.train(input_fn=input_func, steps = 5000)"
   ]
  },
  {
   "cell_type": "code",
   "execution_count": 46,
   "metadata": {
    "collapsed": true
   },
   "outputs": [
    {
     "name": "stdout",
     "output_type": "stream",
     "text": [
      "INFO:tensorflow:Calling model_fn.\n",
      "WARNING:tensorflow:Trapezoidal rule is known to produce incorrect PR-AUCs; please switch to \"careful_interpolation\" instead.\n",
      "WARNING:tensorflow:Trapezoidal rule is known to produce incorrect PR-AUCs; please switch to \"careful_interpolation\" instead.\n",
      "INFO:tensorflow:Done calling model_fn.\n",
      "INFO:tensorflow:Starting evaluation at 2019-05-17T12:38:42Z\n",
      "INFO:tensorflow:Graph was finalized.\n",
      "INFO:tensorflow:Restoring parameters from /var/folders/yh/7gktt0ls0fj77fnrs694ht6m0000gn/T/tmpgzgu_ciu/model.ckpt-5000\n",
      "INFO:tensorflow:Running local_init_op.\n",
      "INFO:tensorflow:Done running local_init_op.\n",
      "INFO:tensorflow:Finished evaluation at 2019-05-17-12:38:42\n",
      "INFO:tensorflow:Saving dict for global step 5000: accuracy = 0.73593074, accuracy_baseline = 0.64935064, auc = 0.7901646, auc_precision_recall = 0.66901124, average_loss = 0.5250682, global_step = 5000, label/mean = 0.35064936, loss = 20.215128, precision = 0.6851852, prediction/mean = 0.35369077, recall = 0.45679012\n",
      "INFO:tensorflow:Saving 'checkpoint_path' summary for global step 5000: /var/folders/yh/7gktt0ls0fj77fnrs694ht6m0000gn/T/tmpgzgu_ciu/model.ckpt-5000\n"
     ]
    }
   ],
   "source": [
    "results = model.evaluate(eval_input_func)"
   ]
  },
  {
   "cell_type": "code",
   "execution_count": 47,
   "metadata": {
    "scrolled": true
   },
   "outputs": [
    {
     "data": {
      "text/plain": [
       "{'accuracy': 0.73593074,\n",
       " 'accuracy_baseline': 0.64935064,\n",
       " 'auc': 0.7901646,\n",
       " 'auc_precision_recall': 0.66901124,\n",
       " 'average_loss': 0.5250682,\n",
       " 'label/mean': 0.35064936,\n",
       " 'loss': 20.215128,\n",
       " 'precision': 0.6851852,\n",
       " 'prediction/mean': 0.35369077,\n",
       " 'recall': 0.45679012,\n",
       " 'global_step': 5000}"
      ]
     },
     "execution_count": 47,
     "metadata": {},
     "output_type": "execute_result"
    }
   ],
   "source": [
    "results"
   ]
  }
 ],
 "metadata": {
  "kernelspec": {
   "display_name": "Python 3",
   "language": "python",
   "name": "python3"
  },
  "language_info": {
   "codemirror_mode": {
    "name": "ipython",
    "version": 3
   },
   "file_extension": ".py",
   "mimetype": "text/x-python",
   "name": "python",
   "nbconvert_exporter": "python",
   "pygments_lexer": "ipython3",
   "version": "3.7.3"
  }
 },
 "nbformat": 4,
 "nbformat_minor": 2
}
