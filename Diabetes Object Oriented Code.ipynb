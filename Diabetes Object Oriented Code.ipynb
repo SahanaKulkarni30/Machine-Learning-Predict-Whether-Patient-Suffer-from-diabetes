{
 "cells": [
  {
   "cell_type": "markdown",
   "metadata": {},
   "source": [
    "# Object Oriented Code for Tensorflow  Machine Learning on  Diabetes Dataset"
   ]
  },
  {
   "cell_type": "code",
   "execution_count": 79,
   "metadata": {},
   "outputs": [
    {
     "name": "stdout",
     "output_type": "stream",
     "text": [
      "Library Loaded .........\n"
     ]
    }
   ],
   "source": [
    "try:\n",
    "\n",
    "    import tensorflow as tf\n",
    "\n",
    "    # for Data Processing\n",
    "    import numpy as np\n",
    "    import pandas as pd\n",
    "\n",
    "    # for Plotting\n",
    "    import matplotlib.pyplot as plt\n",
    "    %matplotlib inline\n",
    "\n",
    "    # for Data Processing\n",
    "    from sklearn.model_selection import train_test_split\n",
    "    from sklearn.metrics import confusion_matrix,classification_report\n",
    "    import scikitplot as skplt\n",
    "    \n",
    "    print('Library Loaded .........')\n",
    "except:\n",
    "    print('One or More Library was not Found ! ')\n"
   ]
  },
  {
   "cell_type": "code",
   "execution_count": 71,
   "metadata": {},
   "outputs": [],
   "source": [
    "class NeuralNetwork(object):\n",
    "    def __init__(self,epoch=100,batch_size =30,learning_rate = 0.001):\n",
    "        self.epoch = epoch\n",
    "        self.batch_size = batch_size\n",
    "        self.learning_rate = learning_rate\n",
    "\n",
    "    def process_data(self):\n",
    "\n",
    "        \"\"\"\n",
    "\n",
    "        :return: X_Train, X_Test, Y_Train, Y_Test\n",
    "        \"\"\"\n",
    "\n",
    "        # Name for the column  or Features Map\n",
    "        columns_to_named = [\"Pregnancies\",\"Glucose\",\"BloodPressure\",\n",
    "                            \"SkinThickness\",\"Insulin\",\"BMI\",\"DiabetesPedigreeFunction\",\n",
    "                            \"Age\",\"Class\"]\n",
    "\n",
    "        # Read the Dataset and Rename the Column\n",
    "        df = pd.read_csv(\"/Users/soumilshah/IdeaProjects/mytensorflow/Dataset/pima-indians-diabetes.csv\",header=0,names=columns_to_named)\n",
    "\n",
    "        col_norm =['Pregnancies', 'Glucose', 'BloodPressure', 'SkinThickness', 'Insulin',\n",
    "                   'BMI', 'DiabetesPedigreeFunction']\n",
    "\n",
    "        # Normalization using Custom Lambda Function\n",
    "\n",
    "        df1_norm = df[col_norm].apply(lambda x :( (x - x.min()) / (x.max()-x.min()) ) )\n",
    "\n",
    "        X_Data = df1_norm\n",
    "        Y_Data = df[\"Class\"]\n",
    "\n",
    "        self.X_Train, self.X_Test, self.Y_Train, self.Y_Test = train_test_split(X_Data,Y_Data, test_size=0.3,random_state=101)\n",
    "\n",
    "        return self.X_Train, self.X_Test, self.Y_Train, self.Y_Test\n",
    "\n",
    "    def create_feature_columns(self):\n",
    "        \"\"\"\n",
    "\n",
    "        :return: feature_column ITS a LIST\n",
    "        \"\"\"\n",
    "\n",
    "        feat_Pregnancies = tf.feature_column.numeric_column('Pregnancies')\n",
    "        feat_Glucose = tf.feature_column.numeric_column('Glucose')\n",
    "        feat_BloodPressure = tf.feature_column.numeric_column('BloodPressure')\n",
    "        feat_SkinThickness_tricep = tf.feature_column.numeric_column('SkinThickness')\n",
    "        feat_Insulin = tf.feature_column.numeric_column('Insulin')\n",
    "        feat_BMI = tf.feature_column.numeric_column('BMI')\n",
    "        feat_DiabetesPedigreeFunction  = tf.feature_column.numeric_column('DiabetesPedigreeFunction')\n",
    "\n",
    "        self.feature_column = [feat_Pregnancies, feat_Glucose, feat_BloodPressure,\n",
    "                               feat_SkinThickness_tricep, feat_Insulin,\n",
    "                               feat_BMI , feat_DiabetesPedigreeFunction]\n",
    "\n",
    "        return self.feature_column\n",
    "\n",
    "    def create_input_and_test_func(self):\n",
    "        \n",
    "        \"\"\"\n",
    "        \n",
    "        :return: input_func, eval_input_func\n",
    "        \"\"\"\n",
    "\n",
    "        self.X_Train, self.X_Test, self.Y_Train, self.Y_Test = self.process_data()\n",
    "        self.input_func = tf.estimator.inputs.pandas_input_fn(x=self.X_Train, y=self.Y_Train,\n",
    "                                                              batch_size=self.batch_size,\n",
    "                                                              num_epochs =self.epoch,\n",
    "                                                              shuffle=True)\n",
    "        self.eval_input_func = tf.estimator.inputs.pandas_input_fn(x=self.X_Test,\n",
    "                                                                   y=self.Y_Test,\n",
    "                                                                   batch_size=self.batch_size,\n",
    "                                                                   num_epochs=1,\n",
    "                                                                   shuffle=False)\n",
    "        return self.input_func, self.eval_input_func\n",
    "\n",
    "    def create_Model(self):\n",
    "        \"\"\"\n",
    "        \n",
    "        :return: model\n",
    "        \"\"\"\n",
    "\n",
    "        self.feature_column = self.create_feature_columns()\n",
    "        self.model = tf.estimator.LinearClassifier(feature_columns=self.feature_column,\n",
    "                                              n_classes=2)\n",
    "        return self.model\n",
    "\n",
    "    def train(self,model):\n",
    "        \"\"\"\n",
    "        \n",
    "        :param model: \n",
    "        :return: history\n",
    "        \"\"\"\n",
    "        \n",
    "        self.input_func, self.eval_input_func = self.create_input_and_test_func()\n",
    "        self.history = model.train(input_fn=self.input_func, steps = self.epoch)\n",
    "\n",
    "        return self.history\n",
    "\n",
    "    def test(self, model):\n",
    "        \"\"\"\n",
    "        \n",
    "        :param model: \n",
    "        :return: results \n",
    "        \"\"\"\n",
    "\n",
    "        self.input_func, self.eval_input_func = self.create_input_and_test_func()\n",
    "        self.results = model.evaluate(self.eval_input_func)\n",
    "\n",
    "        return self.results"
   ]
  },
  {
   "cell_type": "code",
   "execution_count": 83,
   "metadata": {
    "collapsed": true
   },
   "outputs": [
    {
     "name": "stdout",
     "output_type": "stream",
     "text": [
      "INFO:tensorflow:Using default config.\n",
      "WARNING:tensorflow:Using temporary folder as model directory: /var/folders/yh/7gktt0ls0fj77fnrs694ht6m0000gn/T/tmpp3mo3yn4\n",
      "INFO:tensorflow:Using config: {'_model_dir': '/var/folders/yh/7gktt0ls0fj77fnrs694ht6m0000gn/T/tmpp3mo3yn4', '_tf_random_seed': None, '_save_summary_steps': 100, '_save_checkpoints_steps': None, '_save_checkpoints_secs': 600, '_session_config': allow_soft_placement: true\n",
      "graph_options {\n",
      "  rewrite_options {\n",
      "    meta_optimizer_iterations: ONE\n",
      "  }\n",
      "}\n",
      ", '_keep_checkpoint_max': 5, '_keep_checkpoint_every_n_hours': 10000, '_log_step_count_steps': 100, '_train_distribute': None, '_device_fn': None, '_protocol': None, '_eval_distribute': None, '_experimental_distribute': None, '_service': None, '_cluster_spec': <tensorflow.python.training.server_lib.ClusterSpec object at 0x1a320b9cc0>, '_task_type': 'worker', '_task_id': 0, '_global_id_in_cluster': 0, '_master': '', '_evaluation_master': '', '_is_chief': True, '_num_ps_replicas': 0, '_num_worker_replicas': 1}\n",
      "INFO:tensorflow:Calling model_fn.\n",
      "INFO:tensorflow:Done calling model_fn.\n",
      "INFO:tensorflow:Create CheckpointSaverHook.\n",
      "INFO:tensorflow:Graph was finalized.\n",
      "INFO:tensorflow:Running local_init_op.\n",
      "INFO:tensorflow:Done running local_init_op.\n",
      "INFO:tensorflow:Saving checkpoints for 0 into /var/folders/yh/7gktt0ls0fj77fnrs694ht6m0000gn/T/tmpp3mo3yn4/model.ckpt.\n",
      "INFO:tensorflow:loss = 55.451775, step = 1\n",
      "INFO:tensorflow:global_step/sec: 350.827\n",
      "INFO:tensorflow:loss = 44.844894, step = 101 (0.290 sec)\n",
      "INFO:tensorflow:Saving checkpoints for 120 into /var/folders/yh/7gktt0ls0fj77fnrs694ht6m0000gn/T/tmpp3mo3yn4/model.ckpt.\n",
      "INFO:tensorflow:Loss for final step: 47.9027.\n",
      "INFO:tensorflow:Calling model_fn.\n",
      "WARNING:tensorflow:Trapezoidal rule is known to produce incorrect PR-AUCs; please switch to \"careful_interpolation\" instead.\n",
      "WARNING:tensorflow:Trapezoidal rule is known to produce incorrect PR-AUCs; please switch to \"careful_interpolation\" instead.\n",
      "INFO:tensorflow:Done calling model_fn.\n",
      "INFO:tensorflow:Starting evaluation at 2019-05-17T15:22:35Z\n",
      "INFO:tensorflow:Graph was finalized.\n",
      "INFO:tensorflow:Restoring parameters from /var/folders/yh/7gktt0ls0fj77fnrs694ht6m0000gn/T/tmpp3mo3yn4/model.ckpt-120\n",
      "INFO:tensorflow:Running local_init_op.\n",
      "INFO:tensorflow:Done running local_init_op.\n",
      "INFO:tensorflow:Finished evaluation at 2019-05-17-15:22:35\n",
      "INFO:tensorflow:Saving dict for global step 120: accuracy = 0.7056277, accuracy_baseline = 0.64935064, auc = 0.7383127, auc_precision_recall = 0.5997658, average_loss = 0.589937, global_step = 120, label/mean = 0.35064936, loss = 45.425144, precision = 0.84210527, prediction/mean = 0.35701972, recall = 0.19753087\n",
      "INFO:tensorflow:Saving 'checkpoint_path' summary for global step 120: /var/folders/yh/7gktt0ls0fj77fnrs694ht6m0000gn/T/tmpp3mo3yn4/model.ckpt-120\n"
     ]
    }
   ],
   "source": [
    "\n",
    "if __name__ == \"__main__\":\n",
    "    n = NeuralNetwork(epoch=120,batch_size=80,learning_rate=0.1)\n",
    "    model = n.create_Model()\n",
    "    history = n.train(model)\n",
    "    results = n.test(model)"
   ]
  },
  {
   "cell_type": "code",
   "execution_count": 84,
   "metadata": {
    "scrolled": true
   },
   "outputs": [
    {
     "data": {
      "text/plain": [
       "{'accuracy': 0.7056277,\n",
       " 'accuracy_baseline': 0.64935064,\n",
       " 'auc': 0.7383127,\n",
       " 'auc_precision_recall': 0.5997658,\n",
       " 'average_loss': 0.589937,\n",
       " 'label/mean': 0.35064936,\n",
       " 'loss': 45.425144,\n",
       " 'precision': 0.84210527,\n",
       " 'prediction/mean': 0.35701972,\n",
       " 'recall': 0.19753087,\n",
       " 'global_step': 120}"
      ]
     },
     "execution_count": 84,
     "metadata": {},
     "output_type": "execute_result"
    }
   ],
   "source": [
    "results"
   ]
  }
 ],
 "metadata": {
  "kernelspec": {
   "display_name": "Python 3",
   "language": "python",
   "name": "python3"
  },
  "language_info": {
   "codemirror_mode": {
    "name": "ipython",
    "version": 3
   },
   "file_extension": ".py",
   "mimetype": "text/x-python",
   "name": "python",
   "nbconvert_exporter": "python",
   "pygments_lexer": "ipython3",
   "version": "3.7.3"
  }
 },
 "nbformat": 4,
 "nbformat_minor": 2
}
